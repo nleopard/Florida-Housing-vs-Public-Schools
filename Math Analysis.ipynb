{
 "cells": [
  {
   "cell_type": "code",
   "execution_count": 37,
   "metadata": {},
   "outputs": [],
   "source": [
    "# Dependencies\n",
    "import pandas as pd\n",
    "import numpy as np\n",
    "import matplotlib.pyplot as plt\n",
    "import scipy.stats as sts\n",
    "from scipy.stats import linregress"
   ]
  },
  {
   "cell_type": "code",
   "execution_count": 38,
   "metadata": {},
   "outputs": [
    {
     "output_type": "execute_result",
     "data": {
      "text/plain": "   Zip Code                       School Name  Mathematics Achievement  \\\n0     32603    J. J. FINLEY ELEMENTARY SCHOOL                     56.0   \n1     32609  STEPHEN FOSTER ELEMENTARY SCHOOL                     69.0   \n2     32641     LAKE FOREST ELEMENTARY SCHOOL                     26.0   \n3     32605      LITTLEWOOD ELEMENTARY SCHOOL                     61.0   \n4     32609  W. A. METCALFE ELEMENTARY SCHOOL                     48.0   \n\n   Total Points Earned  Percent of Total Possible Points Grade 2019  \\\n0                377.0                              54.0          B   \n1                395.0                              56.0          B   \n2                223.0                              32.0          D   \n3                407.0                              58.0          B   \n4                386.0                              55.0          B   \n\n  Grade 2018 Grade 2017 Grade 2016 Grade 2015  ...   2019-03   2019-04  \\\n0          C          B          B          A  ...  279827.0  283381.0   \n1          C          B          C          A  ...  132431.0  132669.0   \n2          D          C          F          F  ...  101256.0  101874.0   \n3          B          C          B          B  ...  207175.0  207517.0   \n4          D          D          C          D  ...  132431.0  132669.0   \n\n    2019-05   2019-06   2019-07   2019-08   2019-09   2019-10   2019-11  \\\n0  286035.0  287334.0  287821.0  289008.0  290524.0  291696.0  291216.0   \n1  133012.0  133550.0  134383.0  135429.0  137031.0  138650.0  140052.0   \n2  102785.0  103191.0  103928.0  104809.0  106085.0  107431.0  108637.0   \n3  207737.0  208196.0  208743.0  209731.0  211050.0  212435.0  213381.0   \n4  133012.0  133550.0  134383.0  135429.0  137031.0  138650.0  140052.0   \n\n    2019-12  \n0  291212.0  \n1  141110.0  \n2  109839.0  \n3  214302.0  \n4  141110.0  \n\n[5 rows x 156 columns]",
      "text/html": "<div>\n<style scoped>\n    .dataframe tbody tr th:only-of-type {\n        vertical-align: middle;\n    }\n\n    .dataframe tbody tr th {\n        vertical-align: top;\n    }\n\n    .dataframe thead th {\n        text-align: right;\n    }\n</style>\n<table border=\"1\" class=\"dataframe\">\n  <thead>\n    <tr style=\"text-align: right;\">\n      <th></th>\n      <th>Zip Code</th>\n      <th>School Name</th>\n      <th>Mathematics Achievement</th>\n      <th>Total Points Earned</th>\n      <th>Percent of Total Possible Points</th>\n      <th>Grade 2019</th>\n      <th>Grade 2018</th>\n      <th>Grade 2017</th>\n      <th>Grade 2016</th>\n      <th>Grade 2015</th>\n      <th>...</th>\n      <th>2019-03</th>\n      <th>2019-04</th>\n      <th>2019-05</th>\n      <th>2019-06</th>\n      <th>2019-07</th>\n      <th>2019-08</th>\n      <th>2019-09</th>\n      <th>2019-10</th>\n      <th>2019-11</th>\n      <th>2019-12</th>\n    </tr>\n  </thead>\n  <tbody>\n    <tr>\n      <th>0</th>\n      <td>32603</td>\n      <td>J. J. FINLEY ELEMENTARY SCHOOL</td>\n      <td>56.0</td>\n      <td>377.0</td>\n      <td>54.0</td>\n      <td>B</td>\n      <td>C</td>\n      <td>B</td>\n      <td>B</td>\n      <td>A</td>\n      <td>...</td>\n      <td>279827.0</td>\n      <td>283381.0</td>\n      <td>286035.0</td>\n      <td>287334.0</td>\n      <td>287821.0</td>\n      <td>289008.0</td>\n      <td>290524.0</td>\n      <td>291696.0</td>\n      <td>291216.0</td>\n      <td>291212.0</td>\n    </tr>\n    <tr>\n      <th>1</th>\n      <td>32609</td>\n      <td>STEPHEN FOSTER ELEMENTARY SCHOOL</td>\n      <td>69.0</td>\n      <td>395.0</td>\n      <td>56.0</td>\n      <td>B</td>\n      <td>C</td>\n      <td>B</td>\n      <td>C</td>\n      <td>A</td>\n      <td>...</td>\n      <td>132431.0</td>\n      <td>132669.0</td>\n      <td>133012.0</td>\n      <td>133550.0</td>\n      <td>134383.0</td>\n      <td>135429.0</td>\n      <td>137031.0</td>\n      <td>138650.0</td>\n      <td>140052.0</td>\n      <td>141110.0</td>\n    </tr>\n    <tr>\n      <th>2</th>\n      <td>32641</td>\n      <td>LAKE FOREST ELEMENTARY SCHOOL</td>\n      <td>26.0</td>\n      <td>223.0</td>\n      <td>32.0</td>\n      <td>D</td>\n      <td>D</td>\n      <td>C</td>\n      <td>F</td>\n      <td>F</td>\n      <td>...</td>\n      <td>101256.0</td>\n      <td>101874.0</td>\n      <td>102785.0</td>\n      <td>103191.0</td>\n      <td>103928.0</td>\n      <td>104809.0</td>\n      <td>106085.0</td>\n      <td>107431.0</td>\n      <td>108637.0</td>\n      <td>109839.0</td>\n    </tr>\n    <tr>\n      <th>3</th>\n      <td>32605</td>\n      <td>LITTLEWOOD ELEMENTARY SCHOOL</td>\n      <td>61.0</td>\n      <td>407.0</td>\n      <td>58.0</td>\n      <td>B</td>\n      <td>B</td>\n      <td>C</td>\n      <td>B</td>\n      <td>B</td>\n      <td>...</td>\n      <td>207175.0</td>\n      <td>207517.0</td>\n      <td>207737.0</td>\n      <td>208196.0</td>\n      <td>208743.0</td>\n      <td>209731.0</td>\n      <td>211050.0</td>\n      <td>212435.0</td>\n      <td>213381.0</td>\n      <td>214302.0</td>\n    </tr>\n    <tr>\n      <th>4</th>\n      <td>32609</td>\n      <td>W. A. METCALFE ELEMENTARY SCHOOL</td>\n      <td>48.0</td>\n      <td>386.0</td>\n      <td>55.0</td>\n      <td>B</td>\n      <td>D</td>\n      <td>D</td>\n      <td>C</td>\n      <td>D</td>\n      <td>...</td>\n      <td>132431.0</td>\n      <td>132669.0</td>\n      <td>133012.0</td>\n      <td>133550.0</td>\n      <td>134383.0</td>\n      <td>135429.0</td>\n      <td>137031.0</td>\n      <td>138650.0</td>\n      <td>140052.0</td>\n      <td>141110.0</td>\n    </tr>\n  </tbody>\n</table>\n<p>5 rows × 156 columns</p>\n</div>"
     },
     "metadata": {},
     "execution_count": 38
    }
   ],
   "source": [
    "# Specify path to merged dataset\n",
    "merged_dataset = \"data/merged_school_zhi_value.csv\"\n",
    "\n",
    "# Load merged dataset into dataframe and drop error column\n",
    "df = pd.read_csv(merged_dataset)\n",
    "merged_df = df.drop(columns=\"Unnamed: 0\")\n",
    "\n",
    "# Remove unnecessary rows and rename incorrect column\n",
    "math_df = merged_df.drop(columns=[\"English Language Arts Achievement\", \"English Language Arts Learning Gains\", \"English Language Arts Learning Gains of the Lowest 25%\", \"Mathematics Learning Gains\", \"Mathematics Learning Gains of the Lowest 25%\", \"Science Achievement\", \"Social Studies Achievement\", \"Middle School Acceleration\", \"Graduation Rate 2017-18\", \"College and Career Acceleration 2017-18\", \"Total Components\", \"Grade 2008\", \"Grade 2007\", \"Grade 2006\", \"Grade 2005\", \"Grade 2004\", \"Grade 2003\", \"Grade 2002\", \"Grade 2001\", \"Grade 2000\", \"Grade 1999\", \"2020-01\", \"2020-02\"])\n",
    "math_df.rename(columns={\"Informational Baseline Grade 2015\":\"Grade 2015\"}, inplace=True)\n",
    "math_df.head()"
   ]
  },
  {
   "cell_type": "code",
   "execution_count": 45,
   "metadata": {},
   "outputs": [
    {
     "output_type": "stream",
     "name": "stdout",
     "text": "Mathematics Achievement Summary Table\n"
    },
    {
     "output_type": "execute_result",
     "data": {
      "text/plain": "        Mean  Median    Variance  Standard Deviation       SEM\n0  60.205802    60.0  285.733026           16.903639  0.293854",
      "text/html": "<div>\n<style scoped>\n    .dataframe tbody tr th:only-of-type {\n        vertical-align: middle;\n    }\n\n    .dataframe tbody tr th {\n        vertical-align: top;\n    }\n\n    .dataframe thead th {\n        text-align: right;\n    }\n</style>\n<table border=\"1\" class=\"dataframe\">\n  <thead>\n    <tr style=\"text-align: right;\">\n      <th></th>\n      <th>Mean</th>\n      <th>Median</th>\n      <th>Variance</th>\n      <th>Standard Deviation</th>\n      <th>SEM</th>\n    </tr>\n  </thead>\n  <tbody>\n    <tr>\n      <th>0</th>\n      <td>60.205802</td>\n      <td>60.0</td>\n      <td>285.733026</td>\n      <td>16.903639</td>\n      <td>0.293854</td>\n    </tr>\n  </tbody>\n</table>\n</div>"
     },
     "metadata": {},
     "execution_count": 45
    }
   ],
   "source": [
    "# Save summary statistics into variables\n",
    "mean = math_df[\"Mathematics Achievement\"].mean()\n",
    "median = math_df[\"Mathematics Achievement\"].median()\n",
    "variance = math_df[\"Mathematics Achievement\"].var()\n",
    "stdv = math_df[\"Mathematics Achievement\"].std()\n",
    "sem = math_df[\"Mathematics Achievement\"].sem()\n",
    "\n",
    "# Save summary variables into a dataframe\n",
    "math_summary_table = pd.DataFrame({\"Mean\": [mean], \"Median\": [median], \"Variance\": [variance], \"Standard Deviation\": [stdv], \"SEM\": [sem]})\n",
    "print(\"Mathematics Achievement Summary Table\")\n",
    "math_summary_table"
   ]
  },
  {
   "cell_type": "code",
   "execution_count": 48,
   "metadata": {},
   "outputs": [
    {
     "output_type": "execute_result",
     "data": {
      "text/plain": "<pandas.core.groupby.generic.DataFrameGroupBy object at 0x1a2792c390>"
     },
     "metadata": {},
     "execution_count": 48
    }
   ],
   "source": [
    "zip_df = math_df.groupby([\"Zip Code\"])\n",
    "zip_df.head()"
   ]
  },
  {
   "cell_type": "code",
   "execution_count": 41,
   "metadata": {},
   "outputs": [],
   "source": [
    "# Save monthly data into ranges\n",
    "#zhvi_19 = math_df.loc[:, \"2019-01\":\"2019-12\"]\n",
    "#zhvi_18 = math_df.loc[:, \"2018-01\":\"2018-12\"]\n",
    "#zhvi_17 = math_df.loc[:, \"2017-01\":\"2017-12\"]\n",
    "#zhvi_16 = math_df.loc[:, \"2016-01\":\"2016-12\"]\n",
    "#zhvi_15 = math_df.loc[:, \"2015-01\":\"2015-12\"]\n",
    "#hvi_14 = math_df.loc[:, \"2014-01\":\"2014-12\"]\n",
    "#zhvi_13 = math_df.loc[:, \"2013-01\":\"2013-12\"]\n",
    "#zhvi_12 = math_df.loc[:, \"2012-01\":\"2012-12\"]\n",
    "#zhvi_11 = math_df.loc[:, \"2011-01\":\"2011-12\"]\n",
    "#zhvi_09 = math_df.loc[:, \"2010-01\":\"2010-12\"]\n",
    "#zhvi_08 = math_df.loc[:, \"2009-01\":\"2009-12\"]"
   ]
  },
  {
   "cell_type": "code",
   "execution_count": null,
   "metadata": {},
   "outputs": [],
   "source": []
  }
 ],
 "metadata": {
  "kernelspec": {
   "display_name": "Python 3",
   "language": "python",
   "name": "python3"
  },
  "language_info": {
   "codemirror_mode": {
    "name": "ipython",
    "version": 3
   },
   "file_extension": ".py",
   "mimetype": "text/x-python",
   "name": "python",
   "nbconvert_exporter": "python",
   "pygments_lexer": "ipython3",
   "version": "3.7.7-final"
  }
 },
 "nbformat": 4,
 "nbformat_minor": 2
}