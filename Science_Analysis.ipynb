{
 "nbformat": 4,
 "nbformat_minor": 2,
 "metadata": {
  "language_info": {
   "name": "python",
   "codemirror_mode": {
    "name": "ipython",
    "version": 3
   },
   "version": "3.7.4-final"
  },
  "orig_nbformat": 2,
  "file_extension": ".py",
  "mimetype": "text/x-python",
  "name": "python",
  "npconvert_exporter": "python",
  "pygments_lexer": "ipython3",
  "version": 3,
  "kernelspec": {
   "name": "python3",
   "display_name": "Python 3"
  }
 },
 "cells": [
  {
   "cell_type": "code",
   "execution_count": null,
   "metadata": {},
   "outputs": [],
   "source": [
    "# Dependencies\n",
    "import pandas as pd\n",
    "import numpy as np\n",
    "import matplotlib.pyplot as plt\n",
    "import scipy.stats as sts\n",
    "from scipy.stats import linregress"
   ]
  },
  {
   "cell_type": "code",
   "execution_count": null,
   "metadata": {},
   "outputs": [],
   "source": [
    "# Specify path to merged dataset\n",
    "merged_dataset_to_load = \"data/merged_school_zhi_value.csv\"\n",
    "\n",
    "# Read merged dataset and store into dataframe\n",
    "merged_data = pd.read_csv(merged_dataset_to_load)\n",
    "merged_data = merged_data.drop(columns=\"Unnamed: 0\")\n",
    "merged_data.head()"
   ]
  },
  {
   "cell_type": "code",
   "execution_count": null,
   "metadata": {},
   "outputs": [],
   "source": [
    "# Calculate the mean and median of the house values for 2019\n",
    "monthly_house_values = [\"2019-01\", \"2019-02\", \"2019-03\", \"2019-04\", \"2019-05\", \"2019-06\", \"2019-07\", \"2019-08\", \"2019-09\", \"2019-10\", \"2019-11\",\"2019-12\"]\n",
    "merged_data[\"Average House Value 2019\"] = merged_data[monthly_house_values].mean(axis=1)\n",
    "merged_data[\"Median House Value 2019\"] = merged_data[monthly_house_values].median(axis=1)\n",
    "merged_data.head()"
   ]
  },
  {
   "cell_type": "code",
   "execution_count": null,
   "metadata": {},
   "outputs": [],
   "source": [
    "# Calculate the mean and median of house values in December of 2019\n",
    "# Calculate the mean and median of science achievement scores per zip code\n",
    "merged_data_group = merged_data.groupby([\"Zip Code\"])\n",
    "average_house_value_2019 = merged_data_group[\"Average House Value 2019\"].first()\n",
    "median_house_value_2019 = merged_data_group[\"Median House Value 2019\"].first()\n",
    "average_house_value_dec2019 = merged_data_group[\"2019-12\"].mean()\n",
    "median_house_value_dec2019 = merged_data_group[\"2019-12\"].median()\n",
    "average_science_achievement_score = merged_data_group[\"Science Achievement\"].mean()\n",
    "median_science_achievement_score = merged_data_group[\"Science Achievement\"].median()\n",
    "\n",
    "\n",
    "# Create a dataframe to hold and summarize the results\n",
    "house_value_science_score_summary = pd.DataFrame({\"Average House Value 2019\": average_house_value_2019,\n",
    "                                                \"Median House Value 2019\": median_house_value_2019,\n",
    "                                                \"Dec 2019 Average House Value\": average_house_value_dec2019,\n",
    "                                                \"Dec 2019 Median House Value\": median_house_value_dec2019,\n",
    "                                                \"Average Science Achievement Score\": average_science_achievement_score,\n",
    "                                                \"Median Science Achievement Score\": median_science_achievement_score})\n",
    "\n",
    "house_value_science_score_summary"
   ]
  },
  {
   "cell_type": "code",
   "execution_count": null,
   "metadata": {},
   "outputs": [],
   "source": [
    "# Create a copy of summary dataframe for formatting\n",
    "house_value_science_score_summary_formatted = house_value_science_score_summary.copy()\n",
    "house_value_science_score_summary_formatted.iloc[:, :4] = house_value_science_score_summary_formatted.iloc[:, :4].applymap(\"${:,.2f}\".format)\n",
    "house_value_science_score_summary_formatted.iloc[:, 4:] = house_value_science_score_summary_formatted.iloc[:, 4:].applymap(\"{:.2f}\".format)\n",
    "house_value_science_score_summary_formatted\n",
    "\n",
    ""
   ]
  },
  {
   "cell_type": "code",
   "execution_count": null,
   "metadata": {},
   "outputs": [],
   "source": [
    "# Cleanse dataframe: remove rows with missing data fields\n",
    "house_value_science_score_summary_scrubbed = house_value_science_score_summary[house_value_science_score_summary.isna().any(axis=1)]\n",
    "house_value_science_score_summary_scrubbed = house_value_science_score_summary.dropna()\n",
    "house_value_science_score_summary_scrubbed"
   ]
  },
  {
   "cell_type": "code",
   "execution_count": null,
   "metadata": {},
   "outputs": [],
   "source": [
    "# Create a scatter plot to compare the Average Science Acheivement Score vs. Average House Value in 2019 per zip code\n",
    "# Add the linear regression line to plot\n",
    "# Print out the linear regression equation, r value and r-squared value along with the plot\n",
    "x_values = house_value_science_score_summary_scrubbed[\"Average Science Achievement Score\"]\n",
    "y_values = house_value_science_score_summary_scrubbed[\"Average House Value 2019\"]\n",
    "(slope, intercept, rvalue, pvalue, stderr) = linregress(x_values, y_values)\n",
    "regress_values = x_values * slope + intercept\n",
    "line_eq = \"y = \" + str(round(slope,2)) + \"x + \" + str(round(intercept,2))\n",
    "plt.scatter(x_values, y_values, marker=\"o\", facecolors=\"red\", edgecolors=\"black\", s=x_values, alpha=0.75)\n",
    "plt.plot(x_values,regress_values,\"b-\")\n",
    "plt.title(\"House Values vs Science Achievement Scores\")\n",
    "plt.xlabel(\"Average Science Score (Per Zip Code)\")\n",
    "plt.ylabel(\"Average House Value in 2019 (Per Zip Code)\")\n",
    "plt.show()\n",
    "\n",
    "print(f\"The Linear Regression Equation is {line_eq}\")\n",
    "print(f\"The Coefficient of Correlation is: {rvalue}\")\n",
    "print(f\"The Coefficient of Determination is: {rvalue**2}\")"
   ]
  },
  {
   "cell_type": "code",
   "execution_count": null,
   "metadata": {},
   "outputs": [],
   "source": [
    "# Create a scatter plot to compare the Average Science Acheivement Score vs. Average House Value in December 2019 per zip code\n",
    "# Add the linear regression line to plot\n",
    "# Print out the linear regression equation, r value and r-squared value along with the plot\n",
    "x_values = house_value_science_score_summary_scrubbed[\"Average Science Achievement Score\"]\n",
    "y_values = house_value_science_score_summary_scrubbed[\"Dec 2019 Average House Value\"]\n",
    "(slope, intercept, rvalue, pvalue, stderr) = linregress(x_values, y_values)\n",
    "regress_values = x_values * slope + intercept\n",
    "line_eq = \"y = \" + str(round(slope,2)) + \"x + \" + str(round(intercept,2))\n",
    "plt.scatter(x_values, y_values, marker=\"o\", facecolors=\"blue\", edgecolors=\"black\", s=x_values, alpha=0.75)\n",
    "plt.plot(x_values,regress_values,\"r-\")\n",
    "plt.title(\"House Values vs Science Achievement Scores\")\n",
    "plt.xlabel(\"Average Science Score (Per Zip Code)\")\n",
    "plt.ylabel(\"Average House Value in Dec 2019 (Per Zip Code)\")\n",
    "plt.show()\n",
    "\n",
    "print(f\"The Linear Regression Equation is {line_eq}\")\n",
    "print(f\"The Coefficient of Correlation is: {rvalue}\")\n",
    "print(f\"The Coefficient of Determination is: {rvalue**2}\")"
   ]
  },
  {
   "cell_type": "code",
   "execution_count": null,
   "metadata": {},
   "outputs": [],
   "source": [
    "# Create a scatter plot to compare the Median Science Acheivement Score vs. Median House Value in 2019 per zip code\n",
    "# Add the linear regression line to plot\n",
    "# Print out the linear regression equation, r value and r-squared value along with the plot\n",
    "x_values = house_value_science_score_summary_scrubbed[\"Median Science Achievement Score\"]\n",
    "y_values = house_value_science_score_summary_scrubbed[\"Median House Value 2019\"]\n",
    "(slope, intercept, rvalue, pvalue, stderr) = linregress(x_values, y_values)\n",
    "regress_values = x_values * slope + intercept\n",
    "line_eq = \"y = \" + str(round(slope,2)) + \"x + \" + str(round(intercept,2))\n",
    "plt.scatter(x_values, y_values, marker=\"o\", facecolors=\"green\", edgecolors=\"black\", s=x_values, alpha=0.75)\n",
    "plt.plot(x_values,regress_values,\"r-\")\n",
    "plt.title(\"House Values vs Science Achievement Scores\")\n",
    "plt.xlabel(\"Median Science Score (Per Zip Code)\")\n",
    "plt.ylabel(\"Median House Value in 2019 (Per Zip Code)\")\n",
    "plt.show()\n",
    "\n",
    "print(f\"The Linear Regression Equation is {line_eq}\")\n",
    "print(f\"The Coefficient of Correlation is: {rvalue}\")\n",
    "print(f\"The Coefficient of Determination is: {rvalue**2}\")"
   ]
  },
  {
   "cell_type": "code",
   "execution_count": null,
   "metadata": {},
   "outputs": [],
   "source": [
    "# Create a scatter plot to compare the Median Science Acheivement Score vs. Median House Value in December 2019 per zip code\n",
    "# Add the linear regression line to plot\n",
    "# Print out the linear regression equation, r value and r-squared value along with the plot\n",
    "x_values = house_value_science_score_summary_scrubbed[\"Median Science Achievement Score\"]\n",
    "y_values = house_value_science_score_summary_scrubbed[\"Dec 2019 Median House Value\"]\n",
    "(slope, intercept, rvalue, pvalue, stderr) = linregress(x_values, y_values)\n",
    "regress_values = x_values * slope + intercept\n",
    "line_eq = \"y = \" + str(round(slope,2)) + \"x + \" + str(round(intercept,2))\n",
    "plt.scatter(x_values, y_values, marker=\"o\", facecolors=\"purple\", edgecolors=\"black\", s=x_values, alpha=0.75)\n",
    "plt.plot(x_values,regress_values,\"r-\")\n",
    "plt.title(\"House Values vs Science Achievement Scores\")\n",
    "plt.xlabel(\"Median Science Score (Per Zip Code)\")\n",
    "plt.ylabel(\"Median House Value in Dec 2019 (Per Zip Code)\")\n",
    "plt.show()\n",
    "\n",
    "print(f\"The Linear Regression Equation is {line_eq}\")\n",
    "print(f\"The Coefficient of Correlation is: {rvalue}\")\n",
    "print(f\"The Coefficient of Determination is: {rvalue**2}\")"
   ]
  },
  {
   "cell_type": "code",
   "execution_count": null,
   "metadata": {},
   "outputs": [],
   "source": []
  }
 ]
}