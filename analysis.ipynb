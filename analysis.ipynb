{
 "nbformat": 4,
 "nbformat_minor": 2,
 "metadata": {
  "language_info": {
   "name": "python",
   "codemirror_mode": {
    "name": "ipython",
    "version": 3
   },
   "version": "3.7.7-final"
  },
  "orig_nbformat": 2,
  "file_extension": ".py",
  "mimetype": "text/x-python",
  "name": "python",
  "npconvert_exporter": "python",
  "pygments_lexer": "ipython3",
  "version": 3,
  "kernelspec": {
   "name": "python3",
   "display_name": "Python 3"
  }
 },
 "cells": [
  {
   "cell_type": "code",
   "execution_count": 22,
   "metadata": {},
   "outputs": [],
   "source": [
    "# Load libraries\n",
    "import pandas as pd\n",
    "import matplotlib.pyplot as plt\n",
    "import scipy.stats as sts\n",
    "import numpy as np"
   ]
  },
  {
   "cell_type": "code",
   "execution_count": 23,
   "metadata": {},
   "outputs": [],
   "source": [
    "# Read in the csv files\n",
    "sfh_df = pd.read_csv('./data/County_Zhvi_SingleFamilyResidence.csv')"
   ]
  },
  {
   "cell_type": "code",
   "execution_count": 24,
   "metadata": {},
   "outputs": [
    {
     "output_type": "execute_result",
     "data": {
      "text/plain": "    RegionID           RegionName State  \\\n7       2964    Miami-Dade County    FL   \n17      1561       Broward County    FL   \n27      2993    Palm Beach County    FL   \n29      3165  Hillsborough County    FL   \n34      1287        Orange County    FL   \n\n                                    Metro  StateCodeFIPS  MunicipalCodeFIPS  \\\n7   Miami-Fort Lauderdale-West Palm Beach             12                 86   \n17  Miami-Fort Lauderdale-West Palm Beach             12                 11   \n27  Miami-Fort Lauderdale-West Palm Beach             12                 99   \n29        Tampa-St. Petersburg-Clearwater             12                 57   \n34              Orlando-Kissimmee-Sanford             12                 95   \n\n    SizeRank   1996-04   1996-05   1996-06  ...  2019-05  2019-06  2019-07  \\\n7          8  122999.0  123308.0  123838.0  ...   348623   349379   350100   \n17        18  122490.0  122785.0  123138.0  ...   336156   336952   337169   \n27        28  133173.0  133367.0  133528.0  ...   336831   337121   337625   \n29        30   99896.0   99980.0   99991.0  ...   243225   244040   244904   \n34        35  113613.0  114003.0  114325.0  ...   271469   271712   272300   \n\n    2019-08  2019-09  2019-10  2019-11  2019-12  2020-01  2020-02  \n7    350998   351840   353089   353661   354293   354836   357066  \n17   337612   338562   339970   340908   341378   342380   344101  \n27   338129   338539   339053   340137   341232   342726   344882  \n29   245424   245895   246568   247319   248185   248940   249931  \n34   273269   274176   275035   275714   276619   277954   279735  \n\n[5 rows x 294 columns]",
      "text/html": "<div>\n<style scoped>\n    .dataframe tbody tr th:only-of-type {\n        vertical-align: middle;\n    }\n\n    .dataframe tbody tr th {\n        vertical-align: top;\n    }\n\n    .dataframe thead th {\n        text-align: right;\n    }\n</style>\n<table border=\"1\" class=\"dataframe\">\n  <thead>\n    <tr style=\"text-align: right;\">\n      <th></th>\n      <th>RegionID</th>\n      <th>RegionName</th>\n      <th>State</th>\n      <th>Metro</th>\n      <th>StateCodeFIPS</th>\n      <th>MunicipalCodeFIPS</th>\n      <th>SizeRank</th>\n      <th>1996-04</th>\n      <th>1996-05</th>\n      <th>1996-06</th>\n      <th>...</th>\n      <th>2019-05</th>\n      <th>2019-06</th>\n      <th>2019-07</th>\n      <th>2019-08</th>\n      <th>2019-09</th>\n      <th>2019-10</th>\n      <th>2019-11</th>\n      <th>2019-12</th>\n      <th>2020-01</th>\n      <th>2020-02</th>\n    </tr>\n  </thead>\n  <tbody>\n    <tr>\n      <th>7</th>\n      <td>2964</td>\n      <td>Miami-Dade County</td>\n      <td>FL</td>\n      <td>Miami-Fort Lauderdale-West Palm Beach</td>\n      <td>12</td>\n      <td>86</td>\n      <td>8</td>\n      <td>122999.0</td>\n      <td>123308.0</td>\n      <td>123838.0</td>\n      <td>...</td>\n      <td>348623</td>\n      <td>349379</td>\n      <td>350100</td>\n      <td>350998</td>\n      <td>351840</td>\n      <td>353089</td>\n      <td>353661</td>\n      <td>354293</td>\n      <td>354836</td>\n      <td>357066</td>\n    </tr>\n    <tr>\n      <th>17</th>\n      <td>1561</td>\n      <td>Broward County</td>\n      <td>FL</td>\n      <td>Miami-Fort Lauderdale-West Palm Beach</td>\n      <td>12</td>\n      <td>11</td>\n      <td>18</td>\n      <td>122490.0</td>\n      <td>122785.0</td>\n      <td>123138.0</td>\n      <td>...</td>\n      <td>336156</td>\n      <td>336952</td>\n      <td>337169</td>\n      <td>337612</td>\n      <td>338562</td>\n      <td>339970</td>\n      <td>340908</td>\n      <td>341378</td>\n      <td>342380</td>\n      <td>344101</td>\n    </tr>\n    <tr>\n      <th>27</th>\n      <td>2993</td>\n      <td>Palm Beach County</td>\n      <td>FL</td>\n      <td>Miami-Fort Lauderdale-West Palm Beach</td>\n      <td>12</td>\n      <td>99</td>\n      <td>28</td>\n      <td>133173.0</td>\n      <td>133367.0</td>\n      <td>133528.0</td>\n      <td>...</td>\n      <td>336831</td>\n      <td>337121</td>\n      <td>337625</td>\n      <td>338129</td>\n      <td>338539</td>\n      <td>339053</td>\n      <td>340137</td>\n      <td>341232</td>\n      <td>342726</td>\n      <td>344882</td>\n    </tr>\n    <tr>\n      <th>29</th>\n      <td>3165</td>\n      <td>Hillsborough County</td>\n      <td>FL</td>\n      <td>Tampa-St. Petersburg-Clearwater</td>\n      <td>12</td>\n      <td>57</td>\n      <td>30</td>\n      <td>99896.0</td>\n      <td>99980.0</td>\n      <td>99991.0</td>\n      <td>...</td>\n      <td>243225</td>\n      <td>244040</td>\n      <td>244904</td>\n      <td>245424</td>\n      <td>245895</td>\n      <td>246568</td>\n      <td>247319</td>\n      <td>248185</td>\n      <td>248940</td>\n      <td>249931</td>\n    </tr>\n    <tr>\n      <th>34</th>\n      <td>1287</td>\n      <td>Orange County</td>\n      <td>FL</td>\n      <td>Orlando-Kissimmee-Sanford</td>\n      <td>12</td>\n      <td>95</td>\n      <td>35</td>\n      <td>113613.0</td>\n      <td>114003.0</td>\n      <td>114325.0</td>\n      <td>...</td>\n      <td>271469</td>\n      <td>271712</td>\n      <td>272300</td>\n      <td>273269</td>\n      <td>274176</td>\n      <td>275035</td>\n      <td>275714</td>\n      <td>276619</td>\n      <td>277954</td>\n      <td>279735</td>\n    </tr>\n  </tbody>\n</table>\n<p>5 rows × 294 columns</p>\n</div>"
     },
     "metadata": {},
     "execution_count": 24
    }
   ],
   "source": [
    "# Remove all rows that aren't located in Florida\n",
    "county_sfh_df = sfh_df.loc[sfh_df[\"State\"] == \"FL\", :]\n",
    "county_sfh_df"
   ]
  }
 ]
}