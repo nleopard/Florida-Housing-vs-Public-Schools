{
 "nbformat": 4,
 "nbformat_minor": 2,
 "metadata": {
  "language_info": {
   "name": "python",
   "codemirror_mode": {
    "name": "ipython",
    "version": 3
   },
   "version": "3.7.7-final"
  },
  "orig_nbformat": 2,
  "file_extension": ".py",
  "mimetype": "text/x-python",
  "name": "python",
  "npconvert_exporter": "python",
  "pygments_lexer": "ipython3",
  "version": 3,
  "kernelspec": {
   "name": "python3",
   "display_name": "Python 3"
  }
 },
 "cells": [
  {
   "cell_type": "code",
   "execution_count": 12,
   "metadata": {},
   "outputs": [],
   "source": [
    "# Load libraries\n",
    "import pandas as pd\n",
    "import matplotlib.pyplot as plt\n",
    "import scipy.stats as sts\n",
    "import numpy as np"
   ]
  },
  {
   "cell_type": "code",
   "execution_count": 13,
   "metadata": {},
   "outputs": [
    {
     "output_type": "execute_result",
     "data": {
      "text/plain": "     Region ID                         Region Name  Size Rank   1996-04  \\\n0       102001                       United States          0  106409.0   \n1       394913                        New York, NY          1  189376.0   \n2       753899  Los Angeles-Long Beach-Anaheim, CA          2  192140.0   \n3       394463                         Chicago, IL          3  162321.0   \n4       394514               Dallas-Fort Worth, TX          4  113140.0   \n..         ...                                 ...        ...       ...   \n909     394767                          Lamesa, TX        909       NaN   \n910     753874                           Craig, CO        910   63465.0   \n911     394968                           Pecos, TX        911       NaN   \n912     395188                          Vernon, TX        912       NaN   \n913     394743                       Ketchikan, AK        913       NaN   \n\n      1996-05   1996-06   1996-07   1996-08   1996-09   1996-10  ...  2019-05  \\\n0    106560.0  106737.0  106910.0  107128.0  107351.0  107614.0  ...   238053   \n1    189043.0  188739.0  188553.0  188461.0  188504.0  188629.0  ...   475533   \n2    192143.0  192208.0  192359.0  192348.0  192275.0  192216.0  ...   685436   \n3    161707.0  161373.0  160886.0  161449.0  162263.0  163930.0  ...   243265   \n4    113481.0  113727.0  113913.0  114131.0  114357.0  114688.0  ...   252542   \n..        ...       ...       ...       ...       ...       ...  ...      ...   \n909       NaN       NaN       NaN       NaN       NaN       NaN  ...    70619   \n910   63797.0   64089.0   64421.0   64884.0   65336.0   65646.0  ...   193104   \n911       NaN       NaN       NaN       NaN       NaN       NaN  ...    99576   \n912       NaN       NaN       NaN       NaN       NaN       NaN  ...    70022   \n913       NaN       NaN       NaN       NaN       NaN       NaN  ...   322896   \n\n     2019-06  2019-07  2019-08  2019-09  2019-10  2019-11  2019-12  2020-01  \\\n0     238779   239549   240338   241143   241961   242760   243578   244440   \n1     475912   476471   477020   477381   477515   477746   478297   479081   \n2     686283   687894   690303   693953   697273   700235   704585   710138   \n3     243491   243848   244063   244154   244153   244137   244226   244415   \n4     253044   253660   254304   255076   255509   255856   255972   256267   \n..       ...      ...      ...      ...      ...      ...      ...      ...   \n909    71073    71441    71827    72181    72583    72858    73044    73143   \n910   193665   194082   194374   194363   194451   194130   193600   192987   \n911   100396   101289   102329   103272   103960   104875   105885   107546   \n912    70095    70222    70325    70329    70322    70287    70313    70187   \n913   324100   325512   326900   328586   329898   330849   331338   331628   \n\n     2020-02  \n0     245386  \n1     479971  \n2     718974  \n3     244624  \n4     256718  \n..       ...  \n909    73175  \n910   192623  \n911   108907  \n912    69976  \n913   331501  \n\n[914 rows x 290 columns]",
      "text/html": "<div>\n<style scoped>\n    .dataframe tbody tr th:only-of-type {\n        vertical-align: middle;\n    }\n\n    .dataframe tbody tr th {\n        vertical-align: top;\n    }\n\n    .dataframe thead th {\n        text-align: right;\n    }\n</style>\n<table border=\"1\" class=\"dataframe\">\n  <thead>\n    <tr style=\"text-align: right;\">\n      <th></th>\n      <th>Region ID</th>\n      <th>Region Name</th>\n      <th>Size Rank</th>\n      <th>1996-04</th>\n      <th>1996-05</th>\n      <th>1996-06</th>\n      <th>1996-07</th>\n      <th>1996-08</th>\n      <th>1996-09</th>\n      <th>1996-10</th>\n      <th>...</th>\n      <th>2019-05</th>\n      <th>2019-06</th>\n      <th>2019-07</th>\n      <th>2019-08</th>\n      <th>2019-09</th>\n      <th>2019-10</th>\n      <th>2019-11</th>\n      <th>2019-12</th>\n      <th>2020-01</th>\n      <th>2020-02</th>\n    </tr>\n  </thead>\n  <tbody>\n    <tr>\n      <th>0</th>\n      <td>102001</td>\n      <td>United States</td>\n      <td>0</td>\n      <td>106409.0</td>\n      <td>106560.0</td>\n      <td>106737.0</td>\n      <td>106910.0</td>\n      <td>107128.0</td>\n      <td>107351.0</td>\n      <td>107614.0</td>\n      <td>...</td>\n      <td>238053</td>\n      <td>238779</td>\n      <td>239549</td>\n      <td>240338</td>\n      <td>241143</td>\n      <td>241961</td>\n      <td>242760</td>\n      <td>243578</td>\n      <td>244440</td>\n      <td>245386</td>\n    </tr>\n    <tr>\n      <th>1</th>\n      <td>394913</td>\n      <td>New York, NY</td>\n      <td>1</td>\n      <td>189376.0</td>\n      <td>189043.0</td>\n      <td>188739.0</td>\n      <td>188553.0</td>\n      <td>188461.0</td>\n      <td>188504.0</td>\n      <td>188629.0</td>\n      <td>...</td>\n      <td>475533</td>\n      <td>475912</td>\n      <td>476471</td>\n      <td>477020</td>\n      <td>477381</td>\n      <td>477515</td>\n      <td>477746</td>\n      <td>478297</td>\n      <td>479081</td>\n      <td>479971</td>\n    </tr>\n    <tr>\n      <th>2</th>\n      <td>753899</td>\n      <td>Los Angeles-Long Beach-Anaheim, CA</td>\n      <td>2</td>\n      <td>192140.0</td>\n      <td>192143.0</td>\n      <td>192208.0</td>\n      <td>192359.0</td>\n      <td>192348.0</td>\n      <td>192275.0</td>\n      <td>192216.0</td>\n      <td>...</td>\n      <td>685436</td>\n      <td>686283</td>\n      <td>687894</td>\n      <td>690303</td>\n      <td>693953</td>\n      <td>697273</td>\n      <td>700235</td>\n      <td>704585</td>\n      <td>710138</td>\n      <td>718974</td>\n    </tr>\n    <tr>\n      <th>3</th>\n      <td>394463</td>\n      <td>Chicago, IL</td>\n      <td>3</td>\n      <td>162321.0</td>\n      <td>161707.0</td>\n      <td>161373.0</td>\n      <td>160886.0</td>\n      <td>161449.0</td>\n      <td>162263.0</td>\n      <td>163930.0</td>\n      <td>...</td>\n      <td>243265</td>\n      <td>243491</td>\n      <td>243848</td>\n      <td>244063</td>\n      <td>244154</td>\n      <td>244153</td>\n      <td>244137</td>\n      <td>244226</td>\n      <td>244415</td>\n      <td>244624</td>\n    </tr>\n    <tr>\n      <th>4</th>\n      <td>394514</td>\n      <td>Dallas-Fort Worth, TX</td>\n      <td>4</td>\n      <td>113140.0</td>\n      <td>113481.0</td>\n      <td>113727.0</td>\n      <td>113913.0</td>\n      <td>114131.0</td>\n      <td>114357.0</td>\n      <td>114688.0</td>\n      <td>...</td>\n      <td>252542</td>\n      <td>253044</td>\n      <td>253660</td>\n      <td>254304</td>\n      <td>255076</td>\n      <td>255509</td>\n      <td>255856</td>\n      <td>255972</td>\n      <td>256267</td>\n      <td>256718</td>\n    </tr>\n    <tr>\n      <th>...</th>\n      <td>...</td>\n      <td>...</td>\n      <td>...</td>\n      <td>...</td>\n      <td>...</td>\n      <td>...</td>\n      <td>...</td>\n      <td>...</td>\n      <td>...</td>\n      <td>...</td>\n      <td>...</td>\n      <td>...</td>\n      <td>...</td>\n      <td>...</td>\n      <td>...</td>\n      <td>...</td>\n      <td>...</td>\n      <td>...</td>\n      <td>...</td>\n      <td>...</td>\n      <td>...</td>\n    </tr>\n    <tr>\n      <th>909</th>\n      <td>394767</td>\n      <td>Lamesa, TX</td>\n      <td>909</td>\n      <td>NaN</td>\n      <td>NaN</td>\n      <td>NaN</td>\n      <td>NaN</td>\n      <td>NaN</td>\n      <td>NaN</td>\n      <td>NaN</td>\n      <td>...</td>\n      <td>70619</td>\n      <td>71073</td>\n      <td>71441</td>\n      <td>71827</td>\n      <td>72181</td>\n      <td>72583</td>\n      <td>72858</td>\n      <td>73044</td>\n      <td>73143</td>\n      <td>73175</td>\n    </tr>\n    <tr>\n      <th>910</th>\n      <td>753874</td>\n      <td>Craig, CO</td>\n      <td>910</td>\n      <td>63465.0</td>\n      <td>63797.0</td>\n      <td>64089.0</td>\n      <td>64421.0</td>\n      <td>64884.0</td>\n      <td>65336.0</td>\n      <td>65646.0</td>\n      <td>...</td>\n      <td>193104</td>\n      <td>193665</td>\n      <td>194082</td>\n      <td>194374</td>\n      <td>194363</td>\n      <td>194451</td>\n      <td>194130</td>\n      <td>193600</td>\n      <td>192987</td>\n      <td>192623</td>\n    </tr>\n    <tr>\n      <th>911</th>\n      <td>394968</td>\n      <td>Pecos, TX</td>\n      <td>911</td>\n      <td>NaN</td>\n      <td>NaN</td>\n      <td>NaN</td>\n      <td>NaN</td>\n      <td>NaN</td>\n      <td>NaN</td>\n      <td>NaN</td>\n      <td>...</td>\n      <td>99576</td>\n      <td>100396</td>\n      <td>101289</td>\n      <td>102329</td>\n      <td>103272</td>\n      <td>103960</td>\n      <td>104875</td>\n      <td>105885</td>\n      <td>107546</td>\n      <td>108907</td>\n    </tr>\n    <tr>\n      <th>912</th>\n      <td>395188</td>\n      <td>Vernon, TX</td>\n      <td>912</td>\n      <td>NaN</td>\n      <td>NaN</td>\n      <td>NaN</td>\n      <td>NaN</td>\n      <td>NaN</td>\n      <td>NaN</td>\n      <td>NaN</td>\n      <td>...</td>\n      <td>70022</td>\n      <td>70095</td>\n      <td>70222</td>\n      <td>70325</td>\n      <td>70329</td>\n      <td>70322</td>\n      <td>70287</td>\n      <td>70313</td>\n      <td>70187</td>\n      <td>69976</td>\n    </tr>\n    <tr>\n      <th>913</th>\n      <td>394743</td>\n      <td>Ketchikan, AK</td>\n      <td>913</td>\n      <td>NaN</td>\n      <td>NaN</td>\n      <td>NaN</td>\n      <td>NaN</td>\n      <td>NaN</td>\n      <td>NaN</td>\n      <td>NaN</td>\n      <td>...</td>\n      <td>322896</td>\n      <td>324100</td>\n      <td>325512</td>\n      <td>326900</td>\n      <td>328586</td>\n      <td>329898</td>\n      <td>330849</td>\n      <td>331338</td>\n      <td>331628</td>\n      <td>331501</td>\n    </tr>\n  </tbody>\n</table>\n<p>914 rows × 290 columns</p>\n</div>"
     },
     "metadata": {},
     "execution_count": 13
    }
   ],
   "source": [
    "# Read in the csv files\n",
    "all_sfh_df = pd.read_csv('./data/Metro_Zhvi_SingleFamilyResidence.csv')\n",
    "state_sfh_df = pd.read_csv('./data/Metro_Zhvi_SingleFamilyResidence.csv')\n",
    "zip_sfh_df = pd.read_csv('./data/Metro_Zhvi_SingleFamilyResidence.csv')\n"
   ]
  },
  {
   "cell_type": "code",
   "execution_count": null,
   "metadata": {},
   "outputs": [],
   "source": []
  }
 ]
}